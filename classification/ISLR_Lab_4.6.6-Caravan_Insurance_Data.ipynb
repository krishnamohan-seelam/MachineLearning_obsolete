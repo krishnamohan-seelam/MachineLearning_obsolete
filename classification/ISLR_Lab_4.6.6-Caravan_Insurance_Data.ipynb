{
 "cells": [
  {
   "cell_type": "markdown",
   "metadata": {},
   "source": [
    "### 4.6 Lab: Logistic Regression, LDA, QDA, and KNN\n",
    "\n",
    "#### An Application to Caravan Insurance Data\n",
    "This data set includes 85 predictors that measure demographic characteristics for 5,822 individuals.\n",
    "\n",
    "###### Features \n",
    "\n",
    "###### Response \n",
    "* Purchase- which indicates whether or not a given individual purchases a caravan insurance policy\n"
   ]
  },
  {
   "cell_type": "code",
   "execution_count": 1,
   "metadata": {
    "collapsed": true
   },
   "outputs": [],
   "source": [
    "from mlsettings.settings import load_app_config, get_datafolder_path\n",
    "from mltools.mlcommon import load_data, print_dataset_info, split_dataset, auto_scatter_simple\n",
    "\n",
    "import matplotlib.pyplot as plt\n",
    "import seaborn as sns\n",
    "import pandas as pd\n",
    "import numpy as np\n",
    "import os.path\n",
    "% matplotlib inline \n",
    "from numpy import set_printoptions\n",
    "set_printoptions(precision=4)\n",
    "pd.set_option('display.width', 120)\n",
    "pd.set_option('precision', 4)"
   ]
  },
  {
   "cell_type": "code",
   "execution_count": 10,
   "metadata": {},
   "outputs": [
    {
     "name": "stdout",
     "output_type": "stream",
     "text": [
      "{'REG': {'ML_DATASOURCE': 'F:\\\\DataSource', 'ML_PATH': 'F:\\\\MachineLearning'}, 'PRD': {'ML_DATASOURCE': 'F:\\\\DataSource', 'ML_PATH': 'F:\\\\MachineLearning'}, 'DEV': {'ML_DATASOURCE': 'F:\\\\DataSource', 'ML_PATH': 'F:\\\\MachineLearning'}, 'UAT': {'ML_DATASOURCE': 'F:\\\\DataSource', 'ML_PATH': 'F:\\\\MachineLearning'}}\n",
      "Adding F:\\DataSource  to system path\n",
      "Adding F:\\MachineLearning  to system path\n"
     ]
    }
   ],
   "source": [
    "load_app_config()\n",
    "DIRECTORY=\"islr\"\n",
    "FILENAME ='caravan.csv'\n",
    "RESPONSE=\"Purchase\"\n",
    "input_path = get_datafolder_path()"
   ]
  },
  {
   "cell_type": "code",
   "execution_count": 11,
   "metadata": {
    "collapsed": true
   },
   "outputs": [],
   "source": [
    "def load_dataset(filename=FILENAME,response=RESPONSE):\n",
    "    input_file = os.path.join(input_path, DIRECTORY, filename)\n",
    "    input_dataset = load_data(input_file)\n",
    "    print(\" input file is :{0} loaded.\".format(input_file))\n",
    "    #print(input_dataset.head())\n",
    "    \n",
    "    try:\n",
    "        continuous_vars = input_dataset.describe().columns\n",
    "        print(\"Continous Variables\")\n",
    "        print(continuous_vars)\n",
    "    except ValueError:\n",
    "        print(\"No continous variables\")\n",
    "    \n",
    "    try:\n",
    "        categorical_vars = input_dataset.describe(include=[\"object\"]).columns\n",
    "        print(\"Categorical Variables\")\n",
    "        print(categorical_vars)\n",
    "    except ValueError:\n",
    "        print(\"No categorical variables\")\n",
    "        categorical_vars = None\n",
    "    \n",
    "    response_column =  [col for col in input_dataset.columns if response in col]\n",
    "    feature_columns =  [col for col in input_dataset.columns if response not in col]\n",
    "            \n",
    "    \n",
    "    return  input_dataset,feature_columns,response_column"
   ]
  },
  {
   "cell_type": "code",
   "execution_count": 12,
   "metadata": {},
   "outputs": [
    {
     "name": "stdout",
     "output_type": "stream",
     "text": [
      " input file is :F:\\DataSource\\islr\\caravan.csv loaded.\n",
      "Continous Variables\n",
      "Index(['SNO', 'MOSTYPE', 'MAANTHUI', 'MGEMOMV', 'MGEMLEEF', 'MOSHOOFD', 'MGODRK', 'MGODPR', 'MGODOV', 'MGODGE',\n",
      "       'MRELGE', 'MRELSA', 'MRELOV', 'MFALLEEN', 'MFGEKIND', 'MFWEKIND', 'MOPLHOOG', 'MOPLMIDD', 'MOPLLAAG',\n",
      "       'MBERHOOG', 'MBERZELF', 'MBERBOER', 'MBERMIDD', 'MBERARBG', 'MBERARBO', 'MSKA', 'MSKB1', 'MSKB2', 'MSKC',\n",
      "       'MSKD', 'MHHUUR', 'MHKOOP', 'MAUT1', 'MAUT2', 'MAUT0', 'MZFONDS', 'MZPART', 'MINKM30', 'MINK3045', 'MINK4575',\n",
      "       'MINK7512', 'MINK123M', 'MINKGEM', 'MKOOPKLA', 'PWAPART', 'PWABEDR', 'PWALAND', 'PPERSAUT', 'PBESAUT',\n",
      "       'PMOTSCO', 'PVRAAUT', 'PAANHANG', 'PTRACTOR', 'PWERKT', 'PBROM', 'PLEVEN', 'PPERSONG', 'PGEZONG', 'PWAOREG',\n",
      "       'PBRAND', 'PZEILPL', 'PPLEZIER', 'PFIETS', 'PINBOED', 'PBYSTAND', 'AWAPART', 'AWABEDR', 'AWALAND', 'APERSAUT',\n",
      "       'ABESAUT', 'AMOTSCO', 'AVRAAUT', 'AAANHANG', 'ATRACTOR', 'AWERKT', 'ABROM', 'ALEVEN', 'APERSONG', 'AGEZONG',\n",
      "       'AWAOREG', 'ABRAND', 'AZEILPL', 'APLEZIER', 'AFIETS', 'AINBOED', 'ABYSTAND'],\n",
      "      dtype='object')\n",
      "Categorical Variables\n",
      "Index(['Purchase'], dtype='object')\n"
     ]
    }
   ],
   "source": [
    "input_dataset,feature_columns,response_column = load_dataset(filename=FILENAME,response=RESPONSE)\n",
    "input_dataset = input_dataset.drop('SNO',axis=1)\n",
    "feature_columns.remove('SNO')\n",
    "X = input_dataset[feature_columns]\n",
    "y = input_dataset[response_column]"
   ]
  },
  {
   "cell_type": "code",
   "execution_count": 13,
   "metadata": {
    "collapsed": true
   },
   "outputs": [],
   "source": [
    "def display_data_descriptives(input_dataset,X,feature_columns,y,response_column):\n",
    "    print(\"<{0} {1} {0}>\".format(\"=\"*40,\"feature columns\"))\n",
    "    print(feature_columns)\n",
    "    print(\"<{0} {1} {0}>\".format(\"=\"*40,\"data header\"))\n",
    "    #print(X.head().to_string())\n",
    "    print(\"<{0} {1} {0}>\".format(\"=\"*40,\"response\"))\n",
    "    print(response_column)\n",
    "    print(\"<{0} {1} {0}>\".format(\"=\"*40,\"Descriptive Statistics -X\"))\n",
    "    print(X.describe())\n",
    "    print(\"<{0} {1} {0}>\".format(\"=\"*40,\"Descriptive Statistics -y\"))\n",
    "    print(y.describe())\n",
    "    print(\"<{0} {1} {0}>\".format(\"=\"*40,\"value_count -y\"))\n",
    "    print(y.groupby(response_column)[response_column].count())\n",
    "    #print(input_dataset.groupby(response_column)['Year'].count())\n",
    "    print(\"<{0} {1} {0}>\".format(\"=\"*40,\"Correlation\"))\n",
    "    print(input_dataset.corr(method='pearson'))"
   ]
  },
  {
   "cell_type": "code",
   "execution_count": 14,
   "metadata": {},
   "outputs": [
    {
     "name": "stdout",
     "output_type": "stream",
     "text": [
      "<======================================== feature columns ========================================>\n",
      "['MOSTYPE', 'MAANTHUI', 'MGEMOMV', 'MGEMLEEF', 'MOSHOOFD', 'MGODRK', 'MGODPR', 'MGODOV', 'MGODGE', 'MRELGE', 'MRELSA', 'MRELOV', 'MFALLEEN', 'MFGEKIND', 'MFWEKIND', 'MOPLHOOG', 'MOPLMIDD', 'MOPLLAAG', 'MBERHOOG', 'MBERZELF', 'MBERBOER', 'MBERMIDD', 'MBERARBG', 'MBERARBO', 'MSKA', 'MSKB1', 'MSKB2', 'MSKC', 'MSKD', 'MHHUUR', 'MHKOOP', 'MAUT1', 'MAUT2', 'MAUT0', 'MZFONDS', 'MZPART', 'MINKM30', 'MINK3045', 'MINK4575', 'MINK7512', 'MINK123M', 'MINKGEM', 'MKOOPKLA', 'PWAPART', 'PWABEDR', 'PWALAND', 'PPERSAUT', 'PBESAUT', 'PMOTSCO', 'PVRAAUT', 'PAANHANG', 'PTRACTOR', 'PWERKT', 'PBROM', 'PLEVEN', 'PPERSONG', 'PGEZONG', 'PWAOREG', 'PBRAND', 'PZEILPL', 'PPLEZIER', 'PFIETS', 'PINBOED', 'PBYSTAND', 'AWAPART', 'AWABEDR', 'AWALAND', 'APERSAUT', 'ABESAUT', 'AMOTSCO', 'AVRAAUT', 'AAANHANG', 'ATRACTOR', 'AWERKT', 'ABROM', 'ALEVEN', 'APERSONG', 'AGEZONG', 'AWAOREG', 'ABRAND', 'AZEILPL', 'APLEZIER', 'AFIETS', 'AINBOED', 'ABYSTAND']\n",
      "<======================================== data header ========================================>\n",
      "<======================================== response ========================================>\n",
      "['Purchase']\n",
      "<======================================== Descriptive Statistics -X ========================================>\n",
      "         MOSTYPE   MAANTHUI    MGEMOMV   MGEMLEEF   MOSHOOFD     MGODRK     MGODPR     MGODOV     MGODGE     MRELGE  \\\n",
      "count  5822.0000  5822.0000  5822.0000  5822.0000  5822.0000  5822.0000  5822.0000  5822.0000  5822.0000  5822.0000   \n",
      "mean     24.2533     1.1106     2.6788     2.9912     5.7736     0.6965     4.6269     1.0699     3.2585     6.1834   \n",
      "std      12.8467     0.4058     0.7898     0.8146     2.8568     1.0032     1.7158     1.0175     1.5976     1.9095   \n",
      "min       1.0000     1.0000     1.0000     1.0000     1.0000     0.0000     0.0000     0.0000     0.0000     0.0000   \n",
      "25%      10.0000     1.0000     2.0000     2.0000     3.0000     0.0000     4.0000     0.0000     2.0000     5.0000   \n",
      "50%      30.0000     1.0000     3.0000     3.0000     7.0000     0.0000     5.0000     1.0000     3.0000     6.0000   \n",
      "75%      35.0000     1.0000     3.0000     3.0000     8.0000     1.0000     6.0000     2.0000     4.0000     7.0000   \n",
      "max      41.0000    10.0000     5.0000     6.0000    10.0000     9.0000     9.0000     5.0000     9.0000     9.0000   \n",
      "\n",
      "         ...         ALEVEN   APERSONG    AGEZONG    AWAOREG     ABRAND    AZEILPL   APLEZIER     AFIETS    AINBOED  \\\n",
      "count    ...      5822.0000  5822.0000  5822.0000  5822.0000  5822.0000  5822.0000  5822.0000  5822.0000  5822.0000   \n",
      "mean     ...         0.0766     0.0053     0.0065     0.0046     0.5701     0.0005     0.0060     0.0318     0.0079   \n",
      "std      ...         0.3776     0.0728     0.0805     0.0774     0.5621     0.0227     0.0816     0.2110     0.0905   \n",
      "min      ...         0.0000     0.0000     0.0000     0.0000     0.0000     0.0000     0.0000     0.0000     0.0000   \n",
      "25%      ...         0.0000     0.0000     0.0000     0.0000     0.0000     0.0000     0.0000     0.0000     0.0000   \n",
      "50%      ...         0.0000     0.0000     0.0000     0.0000     1.0000     0.0000     0.0000     0.0000     0.0000   \n",
      "75%      ...         0.0000     0.0000     0.0000     0.0000     1.0000     0.0000     0.0000     0.0000     0.0000   \n",
      "max      ...         8.0000     1.0000     1.0000     2.0000     7.0000     1.0000     2.0000     3.0000     2.0000   \n",
      "\n",
      "        ABYSTAND  \n",
      "count  5822.0000  \n",
      "mean      0.0143  \n",
      "std       0.1200  \n",
      "min       0.0000  \n",
      "25%       0.0000  \n",
      "50%       0.0000  \n",
      "75%       0.0000  \n",
      "max       2.0000  \n",
      "\n",
      "[8 rows x 85 columns]\n",
      "<======================================== Descriptive Statistics -y ========================================>\n",
      "       Purchase\n",
      "count      5822\n",
      "unique        2\n",
      "top          No\n",
      "freq       5474\n",
      "<======================================== value_count -y ========================================>\n",
      "          Purchase\n",
      "Purchase          \n",
      "No            5474\n",
      "Yes            348\n",
      "<======================================== Correlation ========================================>\n",
      "          MOSTYPE  MAANTHUI  MGEMOMV  MGEMLEEF  MOSHOOFD  MGODRK  MGODPR  MGODOV  MGODGE  MRELGE    ...     ALEVEN  \\\n",
      "MOSTYPE    1.0000   -0.0387  -0.0220    0.0095    0.9927 -0.1936  0.0904 -0.0256 -0.0195 -0.0656    ...    -0.0288   \n",
      "MAANTHUI  -0.0387    1.0000   0.0101    0.0570   -0.0458 -0.0061 -0.0244  0.0121  0.0205  0.0230    ...     0.0209   \n",
      "MGEMOMV   -0.0220    0.0101   1.0000   -0.3283    0.0161  0.0131  0.0494 -0.1086 -0.0055  0.5348    ...     0.0174   \n",
      "MGEMLEEF   0.0095    0.0570  -0.3283    1.0000    0.0039 -0.0375  0.0937  0.0577 -0.1200 -0.0404    ...    -0.0252   \n",
      "MOSHOOFD   0.9927   -0.0458   0.0161    0.0039    1.0000 -0.1992  0.0985 -0.0346 -0.0215 -0.0266    ...    -0.0272   \n",
      "MGODRK    -0.1936   -0.0061   0.0131   -0.0375   -0.1992  1.0000 -0.3728  0.0211 -0.0639 -0.0286    ...     0.0038   \n",
      "MGODPR     0.0904   -0.0244   0.0494    0.0937    0.0985 -0.3728  1.0000 -0.3175 -0.7419  0.1473    ...    -0.0185   \n",
      "MGODOV    -0.0256    0.0121  -0.1086    0.0577   -0.0346  0.0211 -0.3175  1.0000 -0.1393 -0.1257    ...     0.0031   \n",
      "MGODGE    -0.0195    0.0205  -0.0055   -0.1200   -0.0215 -0.0639 -0.7419 -0.1393  1.0000 -0.1079    ...     0.0102   \n",
      "MRELGE    -0.0656    0.0230   0.5348   -0.0404   -0.0266 -0.0286  0.1473 -0.1257 -0.1079  1.0000    ...     0.0151   \n",
      "MRELSA    -0.0163   -0.0386  -0.1756   -0.3074   -0.0375  0.1176 -0.2110  0.1118  0.1596 -0.4783    ...     0.0037   \n",
      "MRELOV     0.0869   -0.0125  -0.5007    0.1998    0.0527 -0.0035 -0.0841  0.1053  0.0718 -0.8844    ...    -0.0157   \n",
      "MFALLEEN   0.0292    0.0325  -0.6596    0.2366   -0.0034  0.0163 -0.1159  0.1222  0.0646 -0.6842    ...    -0.0141   \n",
      "MFGEKIND  -0.0663   -0.0829  -0.3160    0.2042   -0.0750 -0.0104  0.0665  0.0229 -0.0867  0.0754    ...    -0.0204   \n",
      "MFWEKIND   0.0234    0.0421   0.7940   -0.3558    0.0586 -0.0075  0.0240 -0.1054  0.0323  0.5004    ...     0.0250   \n",
      "MOPLHOOG  -0.4736    0.0034   0.0081   -0.0258   -0.4716  0.2410 -0.0942  0.0024 -0.0031  0.0750    ...     0.0141   \n",
      "MOPLMIDD  -0.2784   -0.0532   0.0396   -0.2217   -0.2795  0.1467 -0.0158  0.0127 -0.0370  0.0271    ...     0.0301   \n",
      "MOPLLAAG   0.5257    0.0365  -0.0388    0.1790    0.5241 -0.2514  0.0565 -0.0060  0.0429 -0.0820    ...    -0.0302   \n",
      "MBERHOOG  -0.4186   -0.0057   0.0238    0.1414   -0.4127  0.2175 -0.0110 -0.0524 -0.0569  0.1768    ...     0.0159   \n",
      "MBERZELF  -0.1177    0.0424   0.0357    0.0583   -0.1153  0.0566  0.0429  0.0063 -0.0671  0.0883    ...    -0.0144   \n",
      "MBERBOER   0.2486   -0.0182   0.1070    0.0907    0.2769 -0.1060  0.1112 -0.0469 -0.0524  0.0198    ...    -0.0043   \n",
      "MBERMIDD  -0.2062    0.0058  -0.0049   -0.1627   -0.2194  0.0876 -0.0319  0.0776 -0.0245 -0.0072    ...     0.0059   \n",
      "MBERARBG   0.3047    0.0248   0.0376   -0.0481    0.3053 -0.1798  0.0172 -0.0655  0.0830  0.0268    ...     0.0042   \n",
      "MBERARBO   0.2731   -0.0523  -0.1612    0.0343    0.2589 -0.0721 -0.0351  0.1085  0.0236 -0.2981    ...    -0.0152   \n",
      "MSKA      -0.3929   -0.0144   0.0631    0.0478   -0.3820  0.1696 -0.0106 -0.0329 -0.0528  0.1828    ...     0.0228   \n",
      "MSKB1     -0.1885    0.0099   0.0116   -0.1558   -0.1926  0.1372 -0.0410  0.0541 -0.0232 -0.0292    ...    -0.0023   \n",
      "MSKB2     -0.0381   -0.0253   0.0586   -0.0404   -0.0297  0.0797  0.0286 -0.0264 -0.0422  0.0167    ...     0.0178   \n",
      "MSKC       0.3861   -0.0073  -0.0190   -0.0636    0.3794 -0.2157  0.0585  0.0017  0.0313 -0.0360    ...    -0.0243   \n",
      "MSKD       0.2046    0.0207  -0.1866    0.2446    0.1921 -0.0752 -0.0699  0.0685  0.0831 -0.2431    ...    -0.0098   \n",
      "MHHUUR     0.1490   -0.0491  -0.3394    0.0253    0.1182 -0.0964 -0.2202  0.1458  0.2246 -0.3910    ...    -0.0257   \n",
      "...           ...       ...      ...       ...       ...     ...     ...     ...     ...     ...    ...        ...   \n",
      "PPERSONG   0.0284    0.0084   0.0038    0.0199    0.0308 -0.0080 -0.0197 -0.0005  0.0166  0.0169    ...     0.0128   \n",
      "PGEZONG   -0.0151    0.0113   0.0165   -0.0068   -0.0131  0.0080  0.0006 -0.0046  0.0061  0.0209    ...     0.1115   \n",
      "PWAOREG    0.0014   -0.0171   0.0174   -0.0016    0.0014 -0.0139  0.0064  0.0060 -0.0013  0.0129    ...    -0.0054   \n",
      "PBRAND    -0.0098   -0.0014   0.0560    0.0193   -0.0003 -0.0039  0.0768 -0.0203 -0.0745  0.0585    ...     0.1322   \n",
      "PZEILPL    0.0144   -0.0054   0.0080    0.0002    0.0154  0.0099  0.0089 -0.0208 -0.0106  0.0126    ...    -0.0040   \n",
      "PPLEZIER  -0.0181    0.0044   0.0019   -0.0047   -0.0205  0.0128  0.0183  0.0051 -0.0238 -0.0106    ...     0.0026   \n",
      "PFIETS    -0.0121   -0.0169   0.0308    0.0192   -0.0148  0.0018  0.0056  0.0266 -0.0178  0.0178    ...     0.0079   \n",
      "PINBOED   -0.0173    0.0081   0.0130   -0.0136   -0.0172 -0.0020  0.0014 -0.0119  0.0060 -0.0087    ...     0.0268   \n",
      "PBYSTAND  -0.0591   -0.0038   0.0345   -0.0194   -0.0572  0.0004  0.0189  0.0098 -0.0320  0.0361    ...     0.0198   \n",
      "AWAPART   -0.0329    0.0425  -0.0439   -0.0143   -0.0416  0.0455 -0.0142  0.0171 -0.0180 -0.0430    ...     0.1314   \n",
      "AWABEDR   -0.0041    0.0047   0.0351   -0.0082   -0.0007 -0.0267  0.0254 -0.0101 -0.0090  0.0183    ...     0.0082   \n",
      "AWALAND    0.0797   -0.0276   0.0360    0.0075    0.0898 -0.0549  0.0400 -0.0171 -0.0167  0.0101    ...    -0.0006   \n",
      "APERSAUT  -0.0083   -0.0294   0.0206   -0.0158   -0.0056 -0.0027  0.0280 -0.0248 -0.0244  0.0279    ...     0.0935   \n",
      "ABESAUT   -0.0278   -0.0187  -0.0090    0.0220   -0.0288  0.0073  0.0098  0.0062 -0.0188 -0.0112    ...     0.0291   \n",
      "AMOTSCO   -0.0125   -0.0193   0.0131   -0.0156   -0.0118  0.0094 -0.0030  0.0017 -0.0037  0.0134    ...     0.0391   \n",
      "AVRAAUT    0.0189   -0.0097   0.0006   -0.0130    0.0220 -0.0111  0.0253 -0.0051 -0.0177  0.0095    ...    -0.0072   \n",
      "AAANHANG   0.0305   -0.0103   0.0146    0.0061    0.0337 -0.0039  0.0161 -0.0162 -0.0050  0.0155    ...     0.0051   \n",
      "ATRACTOR   0.0921   -0.0276   0.0587   -0.0055    0.1052 -0.0438  0.0433 -0.0292 -0.0141  0.0206    ...    -0.0095   \n",
      "AWERKT     0.0201   -0.0068   0.0273    0.0056    0.0223 -0.0042  0.0076  0.0007 -0.0081  0.0148    ...    -0.0028   \n",
      "ABROM      0.0321   -0.0133   0.0186    0.0005    0.0363 -0.0243  0.0158 -0.0246  0.0085  0.0149    ...    -0.0419   \n",
      "ALEVEN    -0.0288    0.0209   0.0174   -0.0252   -0.0272  0.0038 -0.0185  0.0031  0.0102  0.0151    ...     1.0000   \n",
      "APERSONG   0.0217    0.0033  -0.0001    0.0211    0.0240 -0.0084 -0.0144  0.0066  0.0088  0.0115    ...     0.0164   \n",
      "AGEZONG   -0.0121    0.0094   0.0168   -0.0017   -0.0100  0.0054  0.0039 -0.0056  0.0042  0.0224    ...     0.1191   \n",
      "AWAOREG   -0.0029   -0.0163   0.0187    0.0006   -0.0022 -0.0128  0.0040  0.0177 -0.0041  0.0117    ...    -0.0063   \n",
      "ABRAND    -0.0115    0.0007  -0.0093    0.0244   -0.0124  0.0019  0.0464  0.0063 -0.0526 -0.0080    ...     0.0921   \n",
      "AZEILPL    0.0078   -0.0062   0.0092    0.0002    0.0071 -0.0007  0.0138 -0.0239 -0.0084  0.0097    ...    -0.0046   \n",
      "APLEZIER  -0.0182    0.0007   0.0006   -0.0018   -0.0207  0.0118  0.0185  0.0094 -0.0264 -0.0016    ...    -0.0038   \n",
      "AFIETS    -0.0158   -0.0210   0.0303    0.0206   -0.0180 -0.0015  0.0019  0.0257 -0.0111  0.0209    ...     0.0039   \n",
      "AINBOED   -0.0211    0.0183   0.0259   -0.0200   -0.0210 -0.0114  0.0024 -0.0097  0.0073 -0.0034    ...     0.0326   \n",
      "ABYSTAND  -0.0537   -0.0042   0.0284   -0.0145   -0.0517 -0.0040  0.0167  0.0101 -0.0273  0.0366    ...     0.0176   \n",
      "\n",
      "          APERSONG  AGEZONG  AWAOREG  ABRAND  AZEILPL  APLEZIER  AFIETS  AINBOED  ABYSTAND  \n",
      "MOSTYPE     0.0217  -0.0121  -0.0029 -0.0115   0.0078   -0.0182 -0.0158  -0.0211   -0.0537  \n",
      "MAANTHUI    0.0033   0.0094  -0.0163  0.0007  -0.0062    0.0007 -0.0210   0.0183   -0.0042  \n",
      "MGEMOMV    -0.0001   0.0168   0.0187 -0.0093   0.0092    0.0006  0.0303   0.0259    0.0284  \n",
      "MGEMLEEF    0.0211  -0.0017   0.0006  0.0244   0.0002   -0.0018  0.0206  -0.0200   -0.0145  \n",
      "MOSHOOFD    0.0240  -0.0100  -0.0022 -0.0124   0.0071   -0.0207 -0.0180  -0.0210   -0.0517  \n",
      "MGODRK     -0.0084   0.0054  -0.0128  0.0019  -0.0007    0.0118 -0.0015  -0.0114   -0.0040  \n",
      "MGODPR     -0.0144   0.0039   0.0040  0.0464   0.0138    0.0185  0.0019   0.0024    0.0167  \n",
      "MGODOV      0.0066  -0.0056   0.0177  0.0063  -0.0239    0.0094  0.0257  -0.0097    0.0101  \n",
      "MGODGE      0.0088   0.0042  -0.0041 -0.0526  -0.0084   -0.0264 -0.0111   0.0073   -0.0273  \n",
      "MRELGE      0.0115   0.0224   0.0117 -0.0080   0.0097   -0.0016  0.0209  -0.0034    0.0366  \n",
      "MRELSA     -0.0205  -0.0079  -0.0112 -0.0005  -0.0208    0.0198 -0.0375   0.0184   -0.0138  \n",
      "MRELOV     -0.0069  -0.0236  -0.0037  0.0130  -0.0038   -0.0063 -0.0079  -0.0026   -0.0400  \n",
      "MFALLEEN    0.0019  -0.0329  -0.0049  0.0120  -0.0112   -0.0188 -0.0101  -0.0135   -0.0339  \n",
      "MFGEKIND   -0.0046   0.0095  -0.0058  0.0099   0.0108    0.0220 -0.0033  -0.0101    0.0017  \n",
      "MFWEKIND    0.0008   0.0145   0.0098 -0.0208   0.0041   -0.0100  0.0083   0.0172    0.0200  \n",
      "MOPLHOOG   -0.0121   0.0046  -0.0102  0.0160   0.0169    0.0076  0.0405   0.0161    0.0403  \n",
      "MOPLMIDD   -0.0039   0.0008   0.0044 -0.0093  -0.0045    0.0200  0.0102   0.0182    0.0308  \n",
      "MOPLLAAG    0.0105  -0.0063   0.0044 -0.0040  -0.0057   -0.0193 -0.0354  -0.0234   -0.0527  \n",
      "MBERHOOG    0.0082   0.0071   0.0035  0.0412   0.0140    0.0043  0.0360   0.0146    0.0221  \n",
      "MBERZELF   -0.0102  -0.0141   0.0122  0.0213   0.0274    0.0192  0.0235   0.0115    0.0110  \n",
      "MBERBOER    0.0174   0.0064   0.0376  0.0157   0.0174   -0.0065 -0.0290  -0.0198   -0.0289  \n",
      "MBERMIDD   -0.0114  -0.0025  -0.0015 -0.0008  -0.0152    0.0075 -0.0019   0.0120    0.0338  \n",
      "MBERARBG    0.0098   0.0045  -0.0076 -0.0208   0.0015   -0.0021 -0.0102  -0.0012   -0.0482  \n",
      "MBERARBO   -0.0091  -0.0134  -0.0161 -0.0204  -0.0175   -0.0133 -0.0369  -0.0214   -0.0046  \n",
      "MSKA        0.0093  -0.0007   0.0003  0.0205   0.0270    0.0113  0.0313   0.0181    0.0228  \n",
      "MSKB1      -0.0032   0.0111   0.0127  0.0032   0.0010    0.0075  0.0066  -0.0013    0.0104  \n",
      "MSKB2       0.0057  -0.0010   0.0167  0.0042  -0.0080   -0.0042 -0.0194  -0.0165    0.0255  \n",
      "MSKC       -0.0031   0.0013  -0.0166 -0.0194  -0.0128   -0.0082 -0.0233  -0.0009   -0.0333  \n",
      "MSKD        0.0071  -0.0206  -0.0235 -0.0114  -0.0186    0.0010 -0.0197  -0.0103   -0.0402  \n",
      "MHHUUR      0.0051  -0.0221  -0.0283 -0.0821  -0.0238   -0.0261 -0.0303  -0.0122   -0.0374  \n",
      "...            ...      ...      ...     ...      ...       ...     ...      ...       ...  \n",
      "PPERSONG    0.8976  -0.0053  -0.0039  0.0079  -0.0015    0.0153 -0.0099  -0.0057   -0.0078  \n",
      "PGEZONG    -0.0058   0.9800  -0.0048  0.0401  -0.0018   -0.0059  0.0303   0.0128    0.1245  \n",
      "PWAOREG    -0.0046  -0.0051   0.9484  0.0276  -0.0014   -0.0046 -0.0094  -0.0055   -0.0075  \n",
      "PBRAND      0.0142   0.0585   0.0740  0.8655   0.0101    0.0135 -0.0269   0.0373    0.0536  \n",
      "PZEILPL    -0.0014  -0.0016  -0.0012  0.0081   0.8703    0.0470 -0.0030   0.0420   -0.0023  \n",
      "PPLEZIER    0.0036  -0.0056  -0.0041  0.0048   0.1648    0.9044 -0.0104   0.0635    0.0128  \n",
      "PFIETS     -0.0118   0.0141  -0.0096 -0.0405  -0.0037   -0.0119  0.9359   0.0101    0.0083  \n",
      "PINBOED    -0.0056   0.0147  -0.0046  0.0256   0.0353    0.0252  0.0004   0.8753    0.0259  \n",
      "PBYSTAND   -0.0085   0.1262  -0.0070  0.0412  -0.0026    0.0223  0.0084   0.0270    0.9662  \n",
      "AWAPART    -0.0119   0.0549  -0.0085  0.5253   0.0122   -0.0047 -0.0059   0.0403    0.0423  \n",
      "AWABEDR    -0.0081  -0.0089   0.1920  0.0523  -0.0025   -0.0081 -0.0166   0.0187   -0.0024  \n",
      "AWALAND     0.0392   0.0183   0.0538  0.1346  -0.0033    0.0041 -0.0161   0.0007    0.0029  \n",
      "APERSAUT    0.0061   0.0446   0.0030  0.0258  -0.0086    0.0464 -0.0296   0.0318    0.1050  \n",
      "ABESAUT    -0.0059  -0.0065   0.0293  0.0005  -0.0018   -0.0059 -0.0059  -0.0070    0.0124  \n",
      "AMOTSCO     0.0178  -0.0052  -0.0011 -0.0190  -0.0041   -0.0040 -0.0128   0.0092    0.0225  \n",
      "AVRAAUT    -0.0026  -0.0029   0.0332 -0.0069  -0.0008   -0.0026  0.0206  -0.0031   -0.0042  \n",
      "AAANHANG    0.0115   0.0089   0.0470  0.0325   0.0579    0.0261 -0.0085   0.0366   -0.0118  \n",
      "ATRACTOR    0.0486   0.0241   0.0746  0.1121  -0.0032   -0.0016 -0.0109  -0.0043    0.0191  \n",
      "AWERKT      0.0724  -0.0040   0.0506  0.0209  -0.0011   -0.0037 -0.0075  -0.0043   -0.0059  \n",
      "ABROM      -0.0194  -0.0054  -0.0159 -0.1830  -0.0060   -0.0196 -0.0277  -0.0232   -0.0154  \n",
      "ALEVEN      0.0164   0.1191  -0.0063  0.0921  -0.0046   -0.0038  0.0039   0.0326    0.0176  \n",
      "APERSONG    1.0000  -0.0059  -0.0044  0.0140  -0.0017    0.0235 -0.0110  -0.0064   -0.0087  \n",
      "AGEZONG    -0.0059   1.0000  -0.0049  0.0392  -0.0018   -0.0060  0.0383   0.0165    0.1148  \n",
      "AWAOREG    -0.0044  -0.0049   1.0000  0.0340  -0.0014   -0.0044 -0.0090  -0.0052   -0.0071  \n",
      "ABRAND      0.0140   0.0392   0.0340  1.0000   0.0039    0.0002 -0.0311   0.0263    0.0349  \n",
      "AZEILPL    -0.0017  -0.0018  -0.0014  0.0039   1.0000    0.0911 -0.0034   0.0817   -0.0027  \n",
      "APLEZIER    0.0235  -0.0060  -0.0044  0.0002   0.0911    1.0000 -0.0111   0.0401    0.0263  \n",
      "AFIETS     -0.0110   0.0383  -0.0090 -0.0311  -0.0034   -0.0111  1.0000   0.0048    0.0092  \n",
      "AINBOED    -0.0064   0.0165  -0.0052  0.0263   0.0817    0.0401  0.0048   1.0000    0.0213  \n",
      "ABYSTAND   -0.0087   0.1148  -0.0071  0.0349  -0.0027    0.0263  0.0092   0.0213    1.0000  \n",
      "\n",
      "[85 rows x 85 columns]\n"
     ]
    }
   ],
   "source": [
    "display_data_descriptives(input_dataset,X,feature_columns,y,response_column)"
   ]
  },
  {
   "cell_type": "code",
   "execution_count": 16,
   "metadata": {},
   "outputs": [
    {
     "data": {
      "text/html": [
       "<div>\n",
       "<style>\n",
       "    .dataframe thead tr:only-child th {\n",
       "        text-align: right;\n",
       "    }\n",
       "\n",
       "    .dataframe thead th {\n",
       "        text-align: left;\n",
       "    }\n",
       "\n",
       "    .dataframe tbody tr th {\n",
       "        vertical-align: top;\n",
       "    }\n",
       "</style>\n",
       "<table border=\"1\" class=\"dataframe\">\n",
       "  <thead>\n",
       "    <tr style=\"text-align: right;\">\n",
       "      <th></th>\n",
       "      <th>Purchase</th>\n",
       "    </tr>\n",
       "  </thead>\n",
       "  <tbody>\n",
       "    <tr>\n",
       "      <th>0</th>\n",
       "      <td>0</td>\n",
       "    </tr>\n",
       "    <tr>\n",
       "      <th>1</th>\n",
       "      <td>0</td>\n",
       "    </tr>\n",
       "    <tr>\n",
       "      <th>2</th>\n",
       "      <td>0</td>\n",
       "    </tr>\n",
       "    <tr>\n",
       "      <th>3</th>\n",
       "      <td>0</td>\n",
       "    </tr>\n",
       "    <tr>\n",
       "      <th>4</th>\n",
       "      <td>0</td>\n",
       "    </tr>\n",
       "  </tbody>\n",
       "</table>\n",
       "</div>"
      ],
      "text/plain": [
       "   Purchase\n",
       "0         0\n",
       "1         0\n",
       "2         0\n",
       "3         0\n",
       "4         0"
      ]
     },
     "execution_count": 16,
     "metadata": {},
     "output_type": "execute_result"
    }
   ],
   "source": [
    "from sklearn.preprocessing import LabelEncoder\n",
    "class_le = LabelEncoder()\n",
    "input_dataset[response_column] = class_le.fit_transform(input_dataset[response_column].values.ravel())\n",
    "input_dataset[response_column].head(5)"
   ]
  },
  {
   "cell_type": "code",
   "execution_count": 23,
   "metadata": {
    "collapsed": true
   },
   "outputs": [],
   "source": [
    "from sklearn.ensemble import ExtraTreesClassifier\n",
    "# feature extraction\n",
    "\n",
    "def select_features_by_XTree(X,y):\n",
    "    model = ExtraTreesClassifier()\n",
    "    model.fit(X, y.values.ravel())\n",
    "\n",
    "    selected_features =np.array(model.feature_importances_)\n",
    "    selected_features_X = pd.DataFrame(X.columns.values, columns=['name'])\n",
    "    selected_features =selected_features.reshape(len(X.columns),1)\n",
    "\n",
    "    selected_features_X['model_result'] =selected_features\n",
    "    selected_features_X =selected_features_X.sort_values(by='model_result',ascending=False)\n",
    "    return selected_features_X"
   ]
  },
  {
   "cell_type": "code",
   "execution_count": 35,
   "metadata": {},
   "outputs": [
    {
     "name": "stdout",
     "output_type": "stream",
     "text": [
      "<======================================== Feature Selection by XTree Classifier ========================================>\n"
     ]
    }
   ],
   "source": [
    "print(\"<{0} {1} {0}>\".format(\"=\"*40,\"Feature Selection by XTree Classifier\"))\n",
    "features_XTree = select_features_by_XTree(X,y)\n",
    "top_features =features_XTree['name']\n",
    "top_features =list(top_features.values)\n",
    "top_features =top_features[1:10]"
   ]
  },
  {
   "cell_type": "code",
   "execution_count": 36,
   "metadata": {},
   "outputs": [],
   "source": [
    " from sklearn.model_selection import KFold\n",
    "from sklearn.model_selection import cross_val_score\n",
    "from sklearn.preprocessing import StandardScaler\n",
    "from sklearn.pipeline import Pipeline\n",
    "from sklearn.discriminant_analysis import LinearDiscriminantAnalysis\n",
    "\n",
    "\n",
    "from sklearn.model_selection  import  train_test_split\n",
    "from sklearn.linear_model  import LogisticRegression\n",
    "\n",
    "def evaluvate_pipeline(X_train,y_train,model,model_name):\n",
    "    \n",
    "    # create pipeline\n",
    "    estimators =[]\n",
    "    #estimators.append(('standardize', StandardScaler()))\n",
    "    estimators.append((model_name, model))\n",
    "    pipeline = Pipeline(estimators)\n",
    "    # evaluate pipeline\n",
    "    kfold = KFold(n_splits=10, random_state=7)\n",
    "    scores = cross_val_score(pipeline, X_train, y_train.values.ravel(), cv=kfold)\n",
    "    \n",
    "    return scores,pipeline"
   ]
  },
  {
   "cell_type": "code",
   "execution_count": 37,
   "metadata": {
    "collapsed": true
   },
   "outputs": [],
   "source": [
    "from sklearn import metrics\n",
    "def measure_performance(X, y, clf, show_accuracy=True,show_classification_report=True,\n",
    "                        show_confusion_matrix=True, show_r2_score=False):\n",
    "    y_pred = clf.predict(X) \n",
    "    if show_accuracy:\n",
    "        print (\"Accuracy:{0:.3f}\".format( metrics.accuracy_score(y, y_pred)),\"\\n\" )\n",
    "    if show_classification_report:\n",
    "        \n",
    "        print (\"Classification report\")\n",
    "        print (metrics.classification_report(y, y_pred),\"\\n\")\n",
    "    if show_confusion_matrix:\n",
    "        print(\"Confusion matrix\") \n",
    "        print(metrics.confusion_matrix(y, y_pred),\"\\n\")\n",
    "    if show_r2_score:\n",
    "        print (\"Coefficient of determination:{0:.3f}\"\n",
    "               .format( metrics.r2_score(y, y_pred)),\"\\n\")\n",
    "    return y_pred"
   ]
  },
  {
   "cell_type": "code",
   "execution_count": 38,
   "metadata": {
    "collapsed": true
   },
   "outputs": [],
   "source": [
    "from sklearn.metrics import roc_auc_score\n",
    "from sklearn.metrics import roc_curve,auc\n",
    "\n",
    "from matplotlib import style\n",
    "\n",
    "style.use('seaborn-colorblind')\n",
    "\n",
    "def plot_roc(y_test, y_pred):\n",
    "    \n",
    "    false_positive_rate, true_positive_rate, thresholds = roc_curve(y_test, y_pred)\n",
    "    roc_auc = auc(false_positive_rate, true_positive_rate)\n",
    "    fig = plt.figure(figsize=(6,4))\n",
    "    plt.title('Receiver Operating Characteristic')\n",
    "    plt.plot(false_positive_rate, true_positive_rate, 'b',label='AUC = %0.2f'% roc_auc)\n",
    "    plt.legend(loc='lower right')\n",
    "    plt.plot([0,1],[0,1],'r--')\n",
    "    plt.xlim([-0.1,1.2])\n",
    "    plt.ylim([-0.1,1.2])\n",
    "    plt.ylabel('True Positive Rate')\n",
    "    plt.xlabel('False Positive Rate')\n",
    "    plt.show()\n",
    "\n",
    "    roc_auc_score(y_test, y_pred)"
   ]
  },
  {
   "cell_type": "code",
   "execution_count": 39,
   "metadata": {},
   "outputs": [
    {
     "name": "stdout",
     "output_type": "stream",
     "text": [
      "0.939230769231\n",
      "Accuracy:0.941 \n",
      "\n",
      "Classification report\n",
      "             precision    recall  f1-score   support\n",
      "\n",
      "          0       0.94      1.00      0.97      1809\n",
      "          1       0.00      0.00      0.00       113\n",
      "\n",
      "avg / total       0.89      0.94      0.91      1922\n",
      " \n",
      "\n",
      "Confusion matrix\n",
      "[[1809    0]\n",
      " [ 113    0]] \n",
      "\n"
     ]
    },
    {
     "name": "stderr",
     "output_type": "stream",
     "text": [
      "F:\\Anaconda2\\envs\\machinelearning\\lib\\site-packages\\sklearn\\metrics\\classification.py:1113: UndefinedMetricWarning: Precision and F-score are ill-defined and being set to 0.0 in labels with no predicted samples.\n",
      "  'precision', 'predicted', average, warn_for)\n"
     ]
    },
    {
     "data": {
      "image/png": "[encoded data removed]",
      "text/plain": [
       "<matplotlib.figure.Figure at 0x1f92d527dd8>"
      ]
     },
     "metadata": {},
     "output_type": "display_data"
    }
   ],
   "source": [
    "X = input_dataset[top_features]\n",
    "y = input_dataset[response_column]\n",
    "test_size = 0.33\n",
    "seed = 7\n",
    "X_train, X_test, y_train, y_test = train_test_split(X, y, test_size=test_size,random_state=seed)\n",
    "model =LogisticRegression()\n",
    "\n",
    "scores,pipeline = evaluvate_pipeline(X_train,y_train,model,'log_reg')\n",
    "\n",
    "print(scores.mean())\n",
    "\n",
    "pipeline.fit(X_train,y_train.values.ravel())\n",
    "\n",
    "y_pred = measure_performance(X_test,y_test,pipeline, show_accuracy=True, \n",
    "                    show_classification_report=True,\n",
    "                    show_confusion_matrix=True, show_r2_score=False)\n",
    "plot_roc(y_test, y_pred)"
   ]
  },
  {
   "cell_type": "code",
   "execution_count": null,
   "metadata": {
    "collapsed": true
   },
   "outputs": [],
   "source": []
  }
 ],
 "metadata": {
  "kernelspec": {
   "display_name": "Python 3",
   "language": "python",
   "name": "python3"
  },
  "language_info": {
   "codemirror_mode": {
    "name": "ipython",
    "version": 3
   },
   "file_extension": ".py",
   "mimetype": "text/x-python",
   "name": "python",
   "nbconvert_exporter": "python",
   "pygments_lexer": "ipython3",
   "version": "3.5.3"
  }
 },
 "nbformat": 4,
 "nbformat_minor": 2
}
