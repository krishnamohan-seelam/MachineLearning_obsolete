{
 "cells": [
  {
   "cell_type": "markdown",
   "metadata": {},
   "source": [
    "### Weekly\n",
    "This question should be answered using the Weekly data set, which is part of the ISLR package. This data is similar in nature to the Smarket data from this chapter’s lab, except that it contains 1, 089 weekly returns for 21 years, from the beginning of 1990 to the end of 2010."
   ]
  },
  {
   "cell_type": "code",
   "execution_count": 1,
   "metadata": {
    "collapsed": true
   },
   "outputs": [],
   "source": [
    "from mlsettings.settings import load_app_config, get_datafolder_path\n",
    "from mltools.mlcommon import load_data, print_dataset_info, split_dataset, auto_scatter_simple\n",
    "\n",
    "import matplotlib.pyplot as plt\n",
    "import seaborn as sns\n",
    "import pandas as pd\n",
    "import numpy as np\n",
    "import os.path\n",
    "% matplotlib inline \n",
    "from numpy import set_printoptions\n",
    "set_printoptions(precision=4)\n",
    "pd.set_option('display.width', 160)\n",
    "pd.set_option('precision', 4)"
   ]
  },
  {
   "cell_type": "code",
   "execution_count": 2,
   "metadata": {},
   "outputs": [
    {
     "name": "stdout",
     "output_type": "stream",
     "text": [
      "{'DEV': {'ML_PATH': 'F:\\\\MachineLearning', 'ML_DATASOURCE': 'F:\\\\DataSource'}, 'UAT': {'ML_PATH': 'F:\\\\MachineLearning', 'ML_DATASOURCE': 'F:\\\\DataSource'}, 'REG': {'ML_PATH': 'F:\\\\MachineLearning', 'ML_DATASOURCE': 'F:\\\\DataSource'}, 'PRD': {'ML_PATH': 'F:\\\\MachineLearning', 'ML_DATASOURCE': 'F:\\\\DataSource'}}\n",
      "Adding F:\\MachineLearning  to system path\n",
      "Adding F:\\DataSource  to system path\n"
     ]
    }
   ],
   "source": [
    "load_app_config()\n",
    "DIRECTORY=\"islr\"\n",
    "FILENAME ='weekly.csv'\n",
    "RESPONSE=\"Direction\"\n",
    "input_path = get_datafolder_path()"
   ]
  },
  {
   "cell_type": "code",
   "execution_count": 3,
   "metadata": {
    "collapsed": true
   },
   "outputs": [],
   "source": [
    "def load_dataset(filename=FILENAME,response=RESPONSE):\n",
    "    input_file = os.path.join(input_path, DIRECTORY, filename)\n",
    "    input_dataset = load_data(input_file)\n",
    "    print(\" input file is :{0} loaded.\".format(input_file))\n",
    "    #print(input_dataset.head())\n",
    "    \n",
    "    try:\n",
    "        continuous_vars = input_dataset.describe().columns\n",
    "        print(\"Continous Variables\")\n",
    "        print(continuous_vars)\n",
    "    except ValueError:\n",
    "        print(\"No continous variables\")\n",
    "    \n",
    "    try:\n",
    "        categorical_vars = input_dataset.describe(include=[\"object\"]).columns\n",
    "        print(\"Categorical Variables\")\n",
    "        print(categorical_vars)\n",
    "    except ValueError:\n",
    "        print(\"No categorical variables\")\n",
    "        categorical_vars = None\n",
    "    \n",
    "    response_column =  [col for col in input_dataset.columns if response in col]\n",
    "    feature_columns =  [col for col in input_dataset.columns if response not in col]\n",
    "            \n",
    "    \n",
    "    return  input_dataset,feature_columns,response_column"
   ]
  },
  {
   "cell_type": "code",
   "execution_count": 4,
   "metadata": {},
   "outputs": [
    {
     "name": "stdout",
     "output_type": "stream",
     "text": [
      " input file is :F:\\DataSource\\islr\\weekly.csv loaded.\n",
      "Continous Variables\n",
      "Index(['Year', 'Lag1', 'Lag2', 'Lag3', 'Lag4', 'Lag5', 'Volume', 'Today'], dtype='object')\n",
      "Categorical Variables\n",
      "Index(['Direction'], dtype='object')\n"
     ]
    }
   ],
   "source": [
    "input_dataset,feature_columns,response_column = load_dataset(filename=FILENAME,response=RESPONSE)\n",
    "X = input_dataset[feature_columns]\n",
    "y = input_dataset[response_column]"
   ]
  },
  {
   "cell_type": "code",
   "execution_count": 5,
   "metadata": {
    "collapsed": true
   },
   "outputs": [],
   "source": [
    "def display_data_descriptives(input_dataset,X,feature_columns,y,response_column):\n",
    "    print(\"<{0} {1} {0}>\".format(\"=\"*40,\"feature columns\"))\n",
    "    print(feature_columns)\n",
    "    print(\"<{0} {1} {0}>\".format(\"=\"*40,\"data header\"))\n",
    "    #print(X.head().to_string())\n",
    "    print(\"<{0} {1} {0}>\".format(\"=\"*40,\"response\"))\n",
    "    print(response_column)\n",
    "    print(\"<{0} {1} {0}>\".format(\"=\"*40,\"Descriptive Statistics -X\"))\n",
    "    print(X.describe())\n",
    "    print(\"<{0} {1} {0}>\".format(\"=\"*40,\"Descriptive Statistics -y\"))\n",
    "    print(y.describe())\n",
    "    print(\"<{0} {1} {0}>\".format(\"=\"*40,\"value_count -y\"))\n",
    "    print(y.groupby(response_column)[response_column].count())"
   ]
  },
  {
   "cell_type": "markdown",
   "metadata": {},
   "source": [
    "#### (a) Produce some numerical and graphical summaries of the Weekly data. Do there appear to be any patterns?"
   ]
  },
  {
   "cell_type": "code",
   "execution_count": 6,
   "metadata": {},
   "outputs": [
    {
     "name": "stdout",
     "output_type": "stream",
     "text": [
      "<======================================== feature columns ========================================>\n",
      "['Year', 'Lag1', 'Lag2', 'Lag3', 'Lag4', 'Lag5', 'Volume', 'Today']\n",
      "<======================================== data header ========================================>\n",
      "<======================================== response ========================================>\n",
      "['Direction']\n",
      "<======================================== Descriptive Statistics -X ========================================>\n",
      "            Year       Lag1       Lag2       Lag3       Lag4       Lag5     Volume      Today\n",
      "count  1089.0000  1089.0000  1089.0000  1089.0000  1089.0000  1089.0000  1089.0000  1089.0000\n",
      "mean   2000.0487     0.1506     0.1511     0.1472     0.1458     0.1399     1.5746     0.1499\n",
      "std       6.0332     2.3570     2.3573     2.3605     2.3603     2.3613     1.6866     2.3569\n",
      "min    1990.0000   -18.1950   -18.1950   -18.1950   -18.1950   -18.1950     0.0875   -18.1950\n",
      "25%    1995.0000    -1.1540    -1.1540    -1.1580    -1.1580    -1.1660     0.3320    -1.1540\n",
      "50%    2000.0000     0.2410     0.2410     0.2410     0.2380     0.2340     1.0027     0.2410\n",
      "75%    2005.0000     1.4050     1.4090     1.4090     1.4090     1.4050     2.0537     1.4050\n",
      "max    2010.0000    12.0260    12.0260    12.0260    12.0260    12.0260     9.3282    12.0260\n",
      "<======================================== Descriptive Statistics -y ========================================>\n",
      "       Direction\n",
      "count       1089\n",
      "unique         2\n",
      "top           Up\n",
      "freq         605\n",
      "<======================================== value_count -y ========================================>\n",
      "           Direction\n",
      "Direction           \n",
      "Down             484\n",
      "Up               605\n"
     ]
    }
   ],
   "source": [
    "display_data_descriptives(input_dataset,X,feature_columns,y,response_column)"
   ]
  },
  {
   "cell_type": "code",
   "execution_count": 7,
   "metadata": {},
   "outputs": [
    {
     "data": {
      "text/html": [
       "<div>\n",
       "<style>\n",
       "    .dataframe thead tr:only-child th {\n",
       "        text-align: right;\n",
       "    }\n",
       "\n",
       "    .dataframe thead th {\n",
       "        text-align: left;\n",
       "    }\n",
       "\n",
       "    .dataframe tbody tr th {\n",
       "        vertical-align: top;\n",
       "    }\n",
       "</style>\n",
       "<table border=\"1\" class=\"dataframe\">\n",
       "  <thead>\n",
       "    <tr style=\"text-align: right;\">\n",
       "      <th></th>\n",
       "      <th>Direction</th>\n",
       "    </tr>\n",
       "  </thead>\n",
       "  <tbody>\n",
       "    <tr>\n",
       "      <th>0</th>\n",
       "      <td>0</td>\n",
       "    </tr>\n",
       "    <tr>\n",
       "      <th>1</th>\n",
       "      <td>0</td>\n",
       "    </tr>\n",
       "    <tr>\n",
       "      <th>2</th>\n",
       "      <td>1</td>\n",
       "    </tr>\n",
       "    <tr>\n",
       "      <th>3</th>\n",
       "      <td>1</td>\n",
       "    </tr>\n",
       "    <tr>\n",
       "      <th>4</th>\n",
       "      <td>1</td>\n",
       "    </tr>\n",
       "  </tbody>\n",
       "</table>\n",
       "</div>"
      ],
      "text/plain": [
       "   Direction\n",
       "0          0\n",
       "1          0\n",
       "2          1\n",
       "3          1\n",
       "4          1"
      ]
     },
     "execution_count": 7,
     "metadata": {},
     "output_type": "execute_result"
    }
   ],
   "source": [
    "from sklearn.preprocessing import LabelEncoder\n",
    "class_le = LabelEncoder()\n",
    "input_dataset[response_column] = class_le.fit_transform(input_dataset[response_column].values.ravel())\n",
    "input_dataset[response_column].head(5)"
   ]
  },
  {
   "cell_type": "code",
   "execution_count": 8,
   "metadata": {
    "collapsed": true
   },
   "outputs": [],
   "source": [
    "def plot_hist(input_dataset,feature_columns,response_column,nbins=10):\n",
    "    all_features = feature_columns\n",
    "    fig = plt.figure(figsize=(16,20))\n",
    "    rows,col = input_dataset.shape\n",
    "    pal = sns.color_palette(\"colorblind\",len(all_features))\n",
    "    colors =pal.as_hex()\n",
    "    for i in range(col-1):\n",
    "        ax = fig.add_subplot(4, 4, i+1)\n",
    "        #ax.hist(input_dataset[all_columns[i]], bins=10, histtype='stepfilled')\n",
    "        sns.distplot(input_dataset[all_features[i]],ax=ax,kde=False,color =colors[i],norm_hist =True,hist_kws=dict(alpha=1))\n",
    "        ax.set_title(all_features[i])\n",
    "    plt.tight_layout()"
   ]
  },
  {
   "cell_type": "code",
   "execution_count": 9,
   "metadata": {},
   "outputs": [
    {
     "data": {
      "image/png": "[encoded data removed]",
      "text/plain": [
       "<matplotlib.figure.Figure at 0x1cd8388cb70>"
      ]
     },
     "metadata": {},
     "output_type": "display_data"
    }
   ],
   "source": [
    "sns.set_style('white',{'axes.grid' : False})   \n",
    "plot_hist(input_dataset,feature_columns,response_column,25)"
   ]
  },
  {
   "cell_type": "code",
   "execution_count": 10,
   "metadata": {
    "collapsed": true
   },
   "outputs": [],
   "source": [
    "def plot_scatter(input_dataset,feature_columns,response_column):\n",
    "    all_features = feature_columns\n",
    "    fig = plt.figure(figsize=(20,30))\n",
    "    rows,col = input_dataset.shape\n",
    "    pal = sns.color_palette(\"colorblind\",len(all_features))\n",
    "    colors =pal.as_hex()\n",
    "    for i in range(col-1):\n",
    "        ax = fig.add_subplot(4, 4, i+1)\n",
    "        ax.scatter(input_dataset[all_features[i]],input_dataset[response_column])\n",
    "        #sns.stripplot(x=all_features[i], y= response_column[0], data=input_dataset, size=4,jitter=True ,ax=ax)\n",
    "        ax.set_title(all_features[i])\n",
    "    plt.tight_layout()\n",
    "    "
   ]
  },
  {
   "cell_type": "code",
   "execution_count": 11,
   "metadata": {},
   "outputs": [],
   "source": [
    "#plot_scatter(input_dataset,feature_columns,response_column)"
   ]
  },
  {
   "cell_type": "code",
   "execution_count": 12,
   "metadata": {},
   "outputs": [
    {
     "name": "stdout",
     "output_type": "stream",
     "text": [
      "<class 'pandas.core.frame.DataFrame'>\n",
      "RangeIndex: 1089 entries, 0 to 1088\n",
      "Data columns (total 9 columns):\n",
      "Year         1089 non-null int64\n",
      "Lag1         1089 non-null float64\n",
      "Lag2         1089 non-null float64\n",
      "Lag3         1089 non-null float64\n",
      "Lag4         1089 non-null float64\n",
      "Lag5         1089 non-null float64\n",
      "Volume       1089 non-null float64\n",
      "Today        1089 non-null float64\n",
      "Direction    1089 non-null int64\n",
      "dtypes: float64(7), int64(2)\n",
      "memory usage: 76.6 KB\n"
     ]
    },
    {
     "data": {
      "image/png": "[encoded data removed]",
      "text/plain": [
       "<matplotlib.figure.Figure at 0x1cd83d46a90>"
      ]
     },
     "metadata": {},
     "output_type": "display_data"
    }
   ],
   "source": [
    "input_dataset.head(5)\n",
    "input_dataset.info()\n",
    "sns.countplot(x=response_column[0],data=input_dataset, palette='hls')\n",
    "plt.show()"
   ]
  },
  {
   "cell_type": "code",
   "execution_count": 13,
   "metadata": {
    "collapsed": true
   },
   "outputs": [],
   "source": [
    "def plot_box(input_dataset,feature_columns,response_column):\n",
    "    all_features = feature_columns\n",
    "    fig = plt.figure(figsize=(20,30))\n",
    "    rows,col = input_dataset.shape\n",
    "    pal = sns.color_palette(\"colorblind\",len(all_features))\n",
    "    colors =pal.as_hex()\n",
    "    for i in range(col-1):\n",
    "        ax = fig.add_subplot(4, 4, i+1)\n",
    "        #ax.scatter(input_dataset[all_features[i]],input_dataset[response_column])\n",
    "        #sns.stripplot(x=all_features[i], y= response_column[0], data=input_dataset, size=4,jitter=True ,ax=ax)\n",
    "        sns.boxplot(x=response_column[0] , y=all_features[i], data=input_dataset)\n",
    "        ax.set_title(all_features[i])\n",
    "    plt.tight_layout()\n",
    "    "
   ]
  },
  {
   "cell_type": "code",
   "execution_count": 14,
   "metadata": {},
   "outputs": [],
   "source": [
    "#plot_box(input_dataset,feature_columns,response_column) "
   ]
  },
  {
   "cell_type": "code",
   "execution_count": 15,
   "metadata": {
    "collapsed": true
   },
   "outputs": [],
   "source": [
    "input_dataset['Str_Direction'] = class_le.inverse_transform(input_dataset[response_column].values.ravel())"
   ]
  },
  {
   "cell_type": "code",
   "execution_count": 16,
   "metadata": {
    "collapsed": true
   },
   "outputs": [],
   "source": [
    "def plot_bar(input_dataset,feature_columns):\n",
    "    all_features = feature_columns\n",
    "    fig = plt.figure(figsize=(20,30))\n",
    "    rows,col = input_dataset[all_features].shape\n",
    "    pal = sns.color_palette(\"colorblind\",len(all_features))\n",
    "    colors =pal.as_hex()\n",
    "    for i in range(col-1):\n",
    "        ax = fig.add_subplot(4, 4, i+1)\n",
    "        sns.barplot(input_dataset['Str_Direction'],input_dataset[all_features[i]])\n",
    "        ax.set_title(all_features[i])\n",
    "    plt.tight_layout()"
   ]
  },
  {
   "cell_type": "code",
   "execution_count": 17,
   "metadata": {},
   "outputs": [],
   "source": [
    "#plot_bar(input_dataset,feature_columns)"
   ]
  },
  {
   "cell_type": "markdown",
   "metadata": {},
   "source": [
    "(b) Use the full data set to perform a logistic regression with Direction as the response and the five lag variables plus Volume as predictors. Use the summary function to print the results. Do any of the predictors appear to be statistically significant? If so,which ones?"
   ]
  },
  {
   "cell_type": "code",
   "execution_count": 18,
   "metadata": {
    "collapsed": true
   },
   "outputs": [],
   "source": [
    "from sklearn.model_selection import KFold,cross_val_score\n",
    "from sklearn.preprocessing import StandardScaler\n",
    "from sklearn.pipeline import Pipeline\n",
    "\n",
    "from sklearn.model_selection  import  train_test_split\n",
    "from sklearn.linear_model  import LogisticRegression\n",
    "\n",
    "def evaluvate_pipeline(X_train,y_train,model,model_name):\n",
    "    \n",
    "    # create pipeline\n",
    "    estimators =[]\n",
    "    estimators.append(('standardize', StandardScaler()))\n",
    "    estimators.append((model_name, model))\n",
    "    pipeline = Pipeline(estimators)\n",
    "    # evaluate pipeline\n",
    "    kfold = KFold(n_splits=10, random_state=7)\n",
    "    scores = cross_val_score(pipeline, X_train, y_train, cv=kfold)\n",
    "    \n",
    "    return scores,pipeline\n"
   ]
  },
  {
   "cell_type": "code",
   "execution_count": 19,
   "metadata": {
    "collapsed": true
   },
   "outputs": [],
   "source": [
    "from sklearn import metrics\n",
    "def measure_performance(X, y, clf, show_accuracy=True,show_classification_report=True,\n",
    "                        show_confusion_matrix=True, show_r2_score=False):\n",
    "    y_pred = clf.predict(X) \n",
    "    if show_accuracy:\n",
    "        print (\"Accuracy:{0:.3f}\".format( metrics.accuracy_score(y, y_pred)),\"\\n\" )\n",
    "    if show_classification_report:\n",
    "        print (\"Classification report\")\n",
    "        print (metrics.classification_report(y, y_pred),\"\\n\")\n",
    "    if show_confusion_matrix:\n",
    "        print(\"Confusion matrix\") \n",
    "        print(metrics.confusion_matrix(y, y_pred),\"\\n\")\n",
    "    if show_r2_score:\n",
    "        print (\"Coefficient of determination:{0:.3f}\"\n",
    "               .format( metrics.r2_score(y, y_pred)),\"\\n\")\n",
    "    return y_pred"
   ]
  },
  {
   "cell_type": "code",
   "execution_count": 20,
   "metadata": {
    "collapsed": true
   },
   "outputs": [],
   "source": [
    "from sklearn.metrics import roc_auc_score\n",
    "from sklearn.metrics import roc_curve,auc\n",
    "\n",
    "from matplotlib import style\n",
    "\n",
    "style.use('seaborn-colorblind')\n",
    "\n",
    "def plot_roc(y_test, y_pred):\n",
    "    \n",
    "    false_positive_rate, true_positive_rate, thresholds = roc_curve(y_test, y_pred)\n",
    "    roc_auc = auc(false_positive_rate, true_positive_rate)\n",
    "    fig = plt.figure(figsize=(6,4))\n",
    "    plt.title('Receiver Operating Characteristic')\n",
    "    plt.plot(false_positive_rate, true_positive_rate, 'b',label='AUC = %0.2f'% roc_auc)\n",
    "    plt.legend(loc='lower right')\n",
    "    plt.plot([0,1],[0,1],'r--')\n",
    "    plt.xlim([-0.1,1.2])\n",
    "    plt.ylim([-0.1,1.2])\n",
    "    plt.ylabel('True Positive Rate')\n",
    "    plt.xlabel('False Positive Rate')\n",
    "    plt.show()\n",
    "\n",
    "    roc_auc_score(y_test, y_pred)"
   ]
  },
  {
   "cell_type": "code",
   "execution_count": 21,
   "metadata": {},
   "outputs": [
    {
     "name": "stdout",
     "output_type": "stream",
     "text": [
      "<class 'pandas.core.frame.DataFrame'>\n",
      "RangeIndex: 1089 entries, 0 to 1088\n",
      "Data columns (total 6 columns):\n",
      "Lag1      1089 non-null float64\n",
      "Lag2      1089 non-null float64\n",
      "Lag3      1089 non-null float64\n",
      "Lag4      1089 non-null float64\n",
      "Lag5      1089 non-null float64\n",
      "Volume    1089 non-null float64\n",
      "dtypes: float64(6)\n",
      "memory usage: 51.1 KB\n",
      "None\n",
      "<class 'pandas.core.frame.DataFrame'>\n",
      "RangeIndex: 1089 entries, 0 to 1088\n",
      "Data columns (total 1 columns):\n",
      "Direction    1089 non-null int64\n",
      "dtypes: int64(1)\n",
      "memory usage: 8.6 KB\n",
      "None\n",
      "   Direction\n",
      "0          0\n",
      "1          0\n",
      "2          1\n",
      "3          1\n",
      "4          1\n",
      "LogisticRegression(C=1.0, class_weight=None, dual=False, fit_intercept=True,\n",
      "          intercept_scaling=1, max_iter=100, multi_class='ovr', n_jobs=1,\n",
      "          penalty='l2', random_state=None, solver='liblinear', tol=0.0001,\n",
      "          verbose=0, warm_start=False)\n",
      "0.538039415562\n",
      "Accuracy:0.561 \n",
      "\n",
      "Classification report\n",
      "             precision    recall  f1-score   support\n",
      "\n",
      "          0       0.53      0.11      0.18       484\n",
      "          1       0.56      0.92      0.70       605\n",
      "\n",
      "avg / total       0.55      0.56      0.47      1089\n",
      " \n",
      "\n",
      "Confusion matrix\n",
      "[[ 54 430]\n",
      " [ 48 557]] \n",
      "\n"
     ]
    },
    {
     "data": {
      "image/png": "[encoded data removed]",
      "text/plain": [
       "<matplotlib.figure.Figure at 0x1cd844617f0>"
      ]
     },
     "metadata": {},
     "output_type": "display_data"
    },
    {
     "name": "stdout",
     "output_type": "stream",
     "text": [
      "(1089, 1)\n"
     ]
    }
   ],
   "source": [
    "test_size = 0.17\n",
    "seed = 1\n",
    "feature_columns=['Lag1', 'Lag2', 'Lag3', 'Lag4', 'Lag5', 'Volume']\n",
    "X = input_dataset[feature_columns]\n",
    "y = input_dataset[response_column]\n",
    "print(X.info())\n",
    "print(y.info())\n",
    "print(y.head())\n",
    "X_train, X_test, y_train, y_test = train_test_split(X, y, test_size=test_size,random_state=seed)\n",
    "model =LogisticRegression()\n",
    "print(model)\n",
    "scores,pipeline = evaluvate_pipeline(X,y.values.ravel(),model,'log_reg')\n",
    "\n",
    "print(scores.mean())\n",
    "\n",
    "pipeline.fit(X,y.values.ravel())\n",
    "\n",
    "y_pred = measure_performance(X,y,pipeline, show_accuracy=True, \n",
    "                             show_classification_report=True,\n",
    "                             show_confusion_matrix=True, show_r2_score=False)\n",
    "plot_roc(y, y_pred)\n",
    "print(y.shape)"
   ]
  },
  {
   "cell_type": "code",
   "execution_count": 22,
   "metadata": {},
   "outputs": [
    {
     "name": "stderr",
     "output_type": "stream",
     "text": [
      "F:\\Anaconda2\\envs\\machinelearning\\lib\\site-packages\\statsmodels\\compat\\pandas.py:56: FutureWarning: The pandas.core.datetools module is deprecated and will be removed in a future version. Please use the pandas.tseries module instead.\n",
      "  from pandas.core import datetools\n"
     ]
    }
   ],
   "source": [
    "import statsmodels.api as sm\n",
    "\n",
    "#smodel = sm.Logit(y.values.ravel(),X.values).fit()\n",
    "#smodel.summary()\n"
   ]
  },
  {
   "cell_type": "code",
   "execution_count": 23,
   "metadata": {},
   "outputs": [
    {
     "name": "stdout",
     "output_type": "stream",
     "text": [
      "<class 'pandas.core.frame.DataFrame'>\n",
      "RangeIndex: 1089 entries, 0 to 1088\n",
      "Data columns (total 10 columns):\n",
      "Year             1089 non-null int64\n",
      "Lag1             1089 non-null float64\n",
      "Lag2             1089 non-null float64\n",
      "Lag3             1089 non-null float64\n",
      "Lag4             1089 non-null float64\n",
      "Lag5             1089 non-null float64\n",
      "Volume           1089 non-null float64\n",
      "Today            1089 non-null float64\n",
      "Direction        1089 non-null int64\n",
      "Str_Direction    1089 non-null object\n",
      "dtypes: float64(7), int64(2), object(1)\n",
      "memory usage: 85.2+ KB\n"
     ]
    }
   ],
   "source": [
    "input_dataset.info()"
   ]
  },
  {
   "cell_type": "markdown",
   "metadata": {},
   "source": [
    "###### Now fit the logistic regression model using a training data period from 1990 to 2008, with Lag2 as the only predictor. Compute theconfusion matrix and the overall fraction of correct predictions for the held out data (that is, the data from 2009 and 2010)."
   ]
  },
  {
   "cell_type": "code",
   "execution_count": 28,
   "metadata": {},
   "outputs": [],
   "source": [
    "training_set = input_dataset[ (input_dataset['Year'] >= 1990) & (input_dataset['Year'] <= 2008) ]\n",
    "testing_set =input_dataset[(input_dataset['Year'] > 2008)]\n",
    "\n",
    "X_train = training_set['Lag5']\n",
    "X_test = testing_set['Lag5']\n",
    "y_train = training_set[response_column]\n",
    "y_test =  testing_set[response_column]\n"
   ]
  },
  {
   "cell_type": "code",
   "execution_count": 29,
   "metadata": {},
   "outputs": [
    {
     "name": "stdout",
     "output_type": "stream",
     "text": [
      "(985, 1)\n"
     ]
    }
   ],
   "source": [
    "X_train.head(5)\n",
    "print(y_train.shape)"
   ]
  },
  {
   "cell_type": "code",
   "execution_count": 41,
   "metadata": {},
   "outputs": [
    {
     "name": "stdout",
     "output_type": "stream",
     "text": [
      "LogisticRegression(C=1.0, class_weight=None, dual=False, fit_intercept=False,\n",
      "          intercept_scaling=1, max_iter=100, multi_class='ovr', n_jobs=1,\n",
      "          penalty='l2', random_state=None, solver='newton-cg', tol=0.0001,\n",
      "          verbose=0, warm_start=False)\n",
      "Accuracy:0.558 \n",
      "\n",
      "Classification report\n",
      "             precision    recall  f1-score   support\n",
      "\n",
      "          0       0.00      0.00      0.00        43\n",
      "          1       0.57      0.95      0.72        61\n",
      "\n",
      "avg / total       0.34      0.56      0.42       104\n",
      " \n",
      "\n",
      "Confusion matrix\n",
      "[[ 0 43]\n",
      " [ 3 58]] \n",
      "\n"
     ]
    },
    {
     "data": {
      "image/png": "[encoded data removed]",
      "text/plain": [
       "<matplotlib.figure.Figure at 0x1cd85b4bf98>"
      ]
     },
     "metadata": {},
     "output_type": "display_data"
    }
   ],
   "source": [
    "model =LogisticRegression(solver ='newton-cg',fit_intercept=False)\n",
    "print(model)\n",
    "\n",
    "pipeline.fit(X_train.values.reshape(-1, 1),y_train.values.ravel())\n",
    "y_pred = pipeline.predict(X_test.values.reshape(-1, 1))\n",
    "\n",
    "y_pred = measure_performance(X_test.values.reshape(-1, 1),y_test.values.ravel(),pipeline, show_accuracy=True, \n",
    "                            show_classification_report=True,\n",
    "                           show_confusion_matrix=True, show_r2_score=False)\n",
    "plot_roc(y_test, y_pred)\n",
    " "
   ]
  },
  {
   "cell_type": "code",
   "execution_count": null,
   "metadata": {
    "collapsed": true
   },
   "outputs": [],
   "source": []
  }
 ],
 "metadata": {
  "kernelspec": {
   "display_name": "Python 3",
   "language": "python",
   "name": "python3"
  },
  "language_info": {
   "codemirror_mode": {
    "name": "ipython",
    "version": 3
   },
   "file_extension": ".py",
   "mimetype": "text/x-python",
   "name": "python",
   "nbconvert_exporter": "python",
   "pygments_lexer": "ipython3",
   "version": "3.5.3"
  }
 },
 "nbformat": 4,
 "nbformat_minor": 2
}
