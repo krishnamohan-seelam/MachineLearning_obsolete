{
 "cells": [
  {
   "cell_type": "code",
   "execution_count": 1,
   "metadata": {
    "collapsed": true
   },
   "outputs": [],
   "source": [
    "import pandas as pd\n",
    "import numpy as np\n",
    "import matplotlib.pyplot as plt\n",
    "import seaborn as sns\n",
    "\n",
    "from mlsettings.settings import load_app_config, get_datafolder_path \n",
    "import os.path\n",
    "\n",
    "% matplotlib inline \n",
    "from numpy import set_printoptions\n",
    "set_printoptions(precision=4)\n",
    "pd.set_option('display.width', 120)\n",
    "pd.set_option('precision', 4)"
   ]
  },
  {
   "cell_type": "code",
   "execution_count": 2,
   "metadata": {},
   "outputs": [
    {
     "name": "stdout",
     "output_type": "stream",
     "text": [
      "{'DEV': {'ML_DATASOURCE': 'F:\\\\DataSource', 'ML_PATH': 'F:\\\\MachineLearning'}, 'PRD': {'ML_DATASOURCE': 'F:\\\\DataSource', 'ML_PATH': 'F:\\\\MachineLearning'}, 'UAT': {'ML_DATASOURCE': 'F:\\\\DataSource', 'ML_PATH': 'F:\\\\MachineLearning'}, 'REG': {'ML_DATASOURCE': 'F:\\\\DataSource', 'ML_PATH': 'F:\\\\MachineLearning'}}\n",
      "Adding F:\\DataSource  to system path\n",
      "Adding F:\\MachineLearning  to system path\n"
     ]
    }
   ],
   "source": [
    "load_app_config()\n",
    "DIRECTORY=\"autos\"\n",
    "FILENAME ='autos.csv'\n",
    " \n",
    "input_path = get_datafolder_path()"
   ]
  },
  {
   "cell_type": "code",
   "execution_count": 3,
   "metadata": {
    "collapsed": true
   },
   "outputs": [],
   "source": [
    "input_file = os.path.join(input_path, DIRECTORY, FILENAME)\n",
    "autos_dataset = pd.read_csv(input_file)"
   ]
  },
  {
   "cell_type": "code",
   "execution_count": 4,
   "metadata": {},
   "outputs": [
    {
     "name": "stdout",
     "output_type": "stream",
     "text": [
      "<class 'pandas.core.frame.DataFrame'>\n",
      "RangeIndex: 216 entries, 0 to 215\n",
      "Data columns (total 26 columns):\n",
      "symboling            216 non-null int64\n",
      "normalized-losses    175 non-null float64\n",
      "make-id              216 non-null int64\n",
      "fuel-type            216 non-null object\n",
      "aspiration           216 non-null object\n",
      "num-of-doors         214 non-null object\n",
      "body-style           216 non-null object\n",
      "drive-wheels         216 non-null object\n",
      "engine-location      216 non-null object\n",
      "wheel-base           216 non-null float64\n",
      "length               216 non-null float64\n",
      "width                216 non-null float64\n",
      "height               216 non-null float64\n",
      "curb-weight          216 non-null int64\n",
      "engine-type          216 non-null object\n",
      "num-of-cylinders     216 non-null object\n",
      "engine-size          216 non-null int64\n",
      "fuel-system          216 non-null object\n",
      "bore                 212 non-null float64\n",
      "stroke               212 non-null float64\n",
      "compression-ratio    216 non-null float64\n",
      "horsepower           214 non-null float64\n",
      "peak-rpm             214 non-null float64\n",
      "city-mpg             216 non-null int64\n",
      "highway-mpg          216 non-null int64\n",
      "price                212 non-null float64\n",
      "dtypes: float64(11), int64(6), object(9)\n",
      "memory usage: 44.0+ KB\n"
     ]
    }
   ],
   "source": [
    "autos_dataset.info()"
   ]
  },
  {
   "cell_type": "code",
   "execution_count": 5,
   "metadata": {},
   "outputs": [
    {
     "data": {
      "text/plain": [
       "['normalized-losses',\n",
       " 'num-of-doors',\n",
       " 'bore',\n",
       " 'stroke',\n",
       " 'horsepower',\n",
       " 'peak-rpm',\n",
       " 'price']"
      ]
     },
     "execution_count": 5,
     "metadata": {},
     "output_type": "execute_result"
    }
   ],
   "source": [
    "autos_nullsum=autos_dataset.isnull().sum()\n",
    "null_columns =autos_nullsum[autos_nullsum!=0].index.values\n",
    "null_columns=list(null_columns)\n",
    "null_columns"
   ]
  },
  {
   "cell_type": "code",
   "execution_count": 6,
   "metadata": {
    "collapsed": true
   },
   "outputs": [],
   "source": [
    "autos_dataset.dropna(axis =0, inplace =True)"
   ]
  },
  {
   "cell_type": "code",
   "execution_count": 7,
   "metadata": {},
   "outputs": [
    {
     "name": "stdout",
     "output_type": "stream",
     "text": [
      "<class 'pandas.core.frame.DataFrame'>\n",
      "Int64Index: 170 entries, 3 to 215\n",
      "Data columns (total 26 columns):\n",
      "symboling            170 non-null int64\n",
      "normalized-losses    170 non-null float64\n",
      "make-id              170 non-null int64\n",
      "fuel-type            170 non-null object\n",
      "aspiration           170 non-null object\n",
      "num-of-doors         170 non-null object\n",
      "body-style           170 non-null object\n",
      "drive-wheels         170 non-null object\n",
      "engine-location      170 non-null object\n",
      "wheel-base           170 non-null float64\n",
      "length               170 non-null float64\n",
      "width                170 non-null float64\n",
      "height               170 non-null float64\n",
      "curb-weight          170 non-null int64\n",
      "engine-type          170 non-null object\n",
      "num-of-cylinders     170 non-null object\n",
      "engine-size          170 non-null int64\n",
      "fuel-system          170 non-null object\n",
      "bore                 170 non-null float64\n",
      "stroke               170 non-null float64\n",
      "compression-ratio    170 non-null float64\n",
      "horsepower           170 non-null float64\n",
      "peak-rpm             170 non-null float64\n",
      "city-mpg             170 non-null int64\n",
      "highway-mpg          170 non-null int64\n",
      "price                170 non-null float64\n",
      "dtypes: float64(11), int64(6), object(9)\n",
      "memory usage: 35.9+ KB\n"
     ]
    }
   ],
   "source": [
    "autos_dataset.info()"
   ]
  },
  {
   "cell_type": "code",
   "execution_count": 38,
   "metadata": {},
   "outputs": [
    {
     "data": {
      "image/png": "[encoded data removed]",
      "text/plain": [
       "<matplotlib.figure.Figure at 0x224323b32e8>"
      ]
     },
     "metadata": {},
     "output_type": "display_data"
    }
   ],
   "source": [
    "sns.set(style=\"white\", color_codes=True)\n",
    "fig = plt.figure(figsize=(6, 6))\n",
    "ax = sns.regplot(x = 'city-mpg', y = 'price',data = autos_dataset , fit_reg=False)\n",
    "plt.gca().spines['top'].set_visible(False)\n",
    "plt.gca().spines['right'].set_visible(False)\n",
    "plt.show()"
   ]
  },
  {
   "cell_type": "code",
   "execution_count": 13,
   "metadata": {},
   "outputs": [
    {
     "data": {
      "text/html": [
       "<div>\n",
       "<style>\n",
       "    .dataframe thead tr:only-child th {\n",
       "        text-align: right;\n",
       "    }\n",
       "\n",
       "    .dataframe thead th {\n",
       "        text-align: left;\n",
       "    }\n",
       "\n",
       "    .dataframe tbody tr th {\n",
       "        vertical-align: top;\n",
       "    }\n",
       "</style>\n",
       "<table border=\"1\" class=\"dataframe\">\n",
       "  <thead>\n",
       "    <tr style=\"text-align: right;\">\n",
       "      <th></th>\n",
       "      <th>symboling</th>\n",
       "      <th>normalized-losses</th>\n",
       "      <th>make-id</th>\n",
       "      <th>fuel-type</th>\n",
       "      <th>aspiration</th>\n",
       "      <th>num-of-doors</th>\n",
       "      <th>body-style</th>\n",
       "      <th>drive-wheels</th>\n",
       "      <th>engine-location</th>\n",
       "      <th>wheel-base</th>\n",
       "      <th>...</th>\n",
       "      <th>engine-size</th>\n",
       "      <th>fuel-system</th>\n",
       "      <th>bore</th>\n",
       "      <th>stroke</th>\n",
       "      <th>compression-ratio</th>\n",
       "      <th>horsepower</th>\n",
       "      <th>peak-rpm</th>\n",
       "      <th>city-mpg</th>\n",
       "      <th>highway-mpg</th>\n",
       "      <th>price</th>\n",
       "    </tr>\n",
       "  </thead>\n",
       "  <tbody>\n",
       "    <tr>\n",
       "      <th>3</th>\n",
       "      <td>2</td>\n",
       "      <td>164.0</td>\n",
       "      <td>2</td>\n",
       "      <td>gas</td>\n",
       "      <td>std</td>\n",
       "      <td>four</td>\n",
       "      <td>sedan</td>\n",
       "      <td>fwd</td>\n",
       "      <td>front</td>\n",
       "      <td>99.8</td>\n",
       "      <td>...</td>\n",
       "      <td>109</td>\n",
       "      <td>mpfi</td>\n",
       "      <td>3.19</td>\n",
       "      <td>3.4</td>\n",
       "      <td>10.0</td>\n",
       "      <td>102.0</td>\n",
       "      <td>5500.0</td>\n",
       "      <td>24</td>\n",
       "      <td>30</td>\n",
       "      <td>13950.0</td>\n",
       "    </tr>\n",
       "    <tr>\n",
       "      <th>4</th>\n",
       "      <td>2</td>\n",
       "      <td>164.0</td>\n",
       "      <td>2</td>\n",
       "      <td>gas</td>\n",
       "      <td>std</td>\n",
       "      <td>four</td>\n",
       "      <td>sedan</td>\n",
       "      <td>4wd</td>\n",
       "      <td>front</td>\n",
       "      <td>99.4</td>\n",
       "      <td>...</td>\n",
       "      <td>136</td>\n",
       "      <td>mpfi</td>\n",
       "      <td>3.19</td>\n",
       "      <td>3.4</td>\n",
       "      <td>8.0</td>\n",
       "      <td>115.0</td>\n",
       "      <td>5500.0</td>\n",
       "      <td>18</td>\n",
       "      <td>22</td>\n",
       "      <td>17450.0</td>\n",
       "    </tr>\n",
       "    <tr>\n",
       "      <th>6</th>\n",
       "      <td>1</td>\n",
       "      <td>158.0</td>\n",
       "      <td>2</td>\n",
       "      <td>gas</td>\n",
       "      <td>std</td>\n",
       "      <td>four</td>\n",
       "      <td>sedan</td>\n",
       "      <td>fwd</td>\n",
       "      <td>front</td>\n",
       "      <td>105.8</td>\n",
       "      <td>...</td>\n",
       "      <td>136</td>\n",
       "      <td>mpfi</td>\n",
       "      <td>3.19</td>\n",
       "      <td>3.4</td>\n",
       "      <td>8.5</td>\n",
       "      <td>110.0</td>\n",
       "      <td>5500.0</td>\n",
       "      <td>19</td>\n",
       "      <td>25</td>\n",
       "      <td>17710.0</td>\n",
       "    </tr>\n",
       "    <tr>\n",
       "      <th>8</th>\n",
       "      <td>1</td>\n",
       "      <td>158.0</td>\n",
       "      <td>2</td>\n",
       "      <td>gas</td>\n",
       "      <td>turbo</td>\n",
       "      <td>four</td>\n",
       "      <td>sedan</td>\n",
       "      <td>fwd</td>\n",
       "      <td>front</td>\n",
       "      <td>105.8</td>\n",
       "      <td>...</td>\n",
       "      <td>131</td>\n",
       "      <td>mpfi</td>\n",
       "      <td>3.13</td>\n",
       "      <td>3.4</td>\n",
       "      <td>8.3</td>\n",
       "      <td>140.0</td>\n",
       "      <td>5500.0</td>\n",
       "      <td>17</td>\n",
       "      <td>20</td>\n",
       "      <td>23875.0</td>\n",
       "    </tr>\n",
       "    <tr>\n",
       "      <th>10</th>\n",
       "      <td>2</td>\n",
       "      <td>192.0</td>\n",
       "      <td>3</td>\n",
       "      <td>gas</td>\n",
       "      <td>std</td>\n",
       "      <td>two</td>\n",
       "      <td>sedan</td>\n",
       "      <td>rwd</td>\n",
       "      <td>front</td>\n",
       "      <td>101.2</td>\n",
       "      <td>...</td>\n",
       "      <td>108</td>\n",
       "      <td>mpfi</td>\n",
       "      <td>3.50</td>\n",
       "      <td>2.8</td>\n",
       "      <td>8.8</td>\n",
       "      <td>101.0</td>\n",
       "      <td>5800.0</td>\n",
       "      <td>23</td>\n",
       "      <td>29</td>\n",
       "      <td>16430.0</td>\n",
       "    </tr>\n",
       "  </tbody>\n",
       "</table>\n",
       "<p>5 rows × 26 columns</p>\n",
       "</div>"
      ],
      "text/plain": [
       "    symboling  normalized-losses  make-id fuel-type aspiration num-of-doors body-style drive-wheels engine-location  \\\n",
       "3           2              164.0        2       gas        std         four      sedan          fwd           front   \n",
       "4           2              164.0        2       gas        std         four      sedan          4wd           front   \n",
       "6           1              158.0        2       gas        std         four      sedan          fwd           front   \n",
       "8           1              158.0        2       gas      turbo         four      sedan          fwd           front   \n",
       "10          2              192.0        3       gas        std          two      sedan          rwd           front   \n",
       "\n",
       "    wheel-base   ...     engine-size  fuel-system  bore  stroke compression-ratio horsepower  peak-rpm city-mpg  \\\n",
       "3         99.8   ...             109         mpfi  3.19     3.4              10.0      102.0    5500.0       24   \n",
       "4         99.4   ...             136         mpfi  3.19     3.4               8.0      115.0    5500.0       18   \n",
       "6        105.8   ...             136         mpfi  3.19     3.4               8.5      110.0    5500.0       19   \n",
       "8        105.8   ...             131         mpfi  3.13     3.4               8.3      140.0    5500.0       17   \n",
       "10       101.2   ...             108         mpfi  3.50     2.8               8.8      101.0    5800.0       23   \n",
       "\n",
       "    highway-mpg    price  \n",
       "3            30  13950.0  \n",
       "4            22  17450.0  \n",
       "6            25  17710.0  \n",
       "8            20  23875.0  \n",
       "10           29  16430.0  \n",
       "\n",
       "[5 rows x 26 columns]"
      ]
     },
     "execution_count": 13,
     "metadata": {},
     "output_type": "execute_result"
    }
   ],
   "source": [
    "autos_dataset.head()"
   ]
  },
  {
   "cell_type": "code",
   "execution_count": 42,
   "metadata": {},
   "outputs": [
    {
     "data": {
      "image/png": "[encoded data removed]",
      "text/plain": [
       "<matplotlib.figure.Figure at 0x22432378710>"
      ]
     },
     "metadata": {},
     "output_type": "display_data"
    }
   ],
   "source": [
    "fig = plt.figure(figsize=(12,6)) \n",
    "ax = fig.add_subplot(1, 1, 1)\n",
    "sns.barplot(x='engine-size' , y='price' ,data=autos_dataset,ax=ax,errwidth =0)\n",
    "ax.set_xticklabels(ax.get_xticklabels(),rotation=30,ha='right')\n",
    "plt.gca().spines['top'].set_visible(False)\n",
    "plt.gca().spines['right'].set_visible(False)\n",
    "plt.show()"
   ]
  },
  {
   "cell_type": "code",
   "execution_count": 43,
   "metadata": {},
   "outputs": [
    {
     "data": {
      "image/png": "[encoded data removed]",
      "text/plain": [
       "<matplotlib.figure.Figure at 0x2243222be10>"
      ]
     },
     "metadata": {},
     "output_type": "display_data"
    }
   ],
   "source": [
    "fig = plt.figure(figsize=(4,6)) \n",
    "ax = fig.add_subplot(1, 1, 1)\n",
    "sns.barplot(x='fuel-type' , y='price' ,data=autos_dataset,ax=ax,errwidth =0)\n",
    "ax.set_xticklabels(ax.get_xticklabels(),rotation=30,ha='right')\n",
    "plt.gca().spines['top'].set_visible(False)\n",
    "plt.gca().spines['right'].set_visible(False)\n",
    "plt.show()"
   ]
  },
  {
   "cell_type": "code",
   "execution_count": 44,
   "metadata": {},
   "outputs": [
    {
     "data": {
      "image/png": "[encoded data removed]",
      "text/plain": [
       "<matplotlib.figure.Figure at 0x22432535080>"
      ]
     },
     "metadata": {},
     "output_type": "display_data"
    }
   ],
   "source": [
    "fig = plt.figure(figsize=(6,6)) \n",
    "ax = fig.add_subplot(1, 1, 1)\n",
    "sns.barplot(x='body-style' , y='price' ,data=autos_dataset,ax=ax,errwidth =0)\n",
    "ax.set_xticklabels(ax.get_xticklabels(),rotation=30,ha='right')\n",
    "plt.gca().spines['top'].set_visible(False)\n",
    "plt.gca().spines['right'].set_visible(False)\n",
    "plt.show()"
   ]
  },
  {
   "cell_type": "code",
   "execution_count": null,
   "metadata": {
    "collapsed": true
   },
   "outputs": [],
   "source": []
  }
 ],
 "metadata": {
  "kernelspec": {
   "display_name": "Python 3",
   "language": "python",
   "name": "python3"
  },
  "language_info": {
   "codemirror_mode": {
    "name": "ipython",
    "version": 3
   },
   "file_extension": ".py",
   "mimetype": "text/x-python",
   "name": "python",
   "nbconvert_exporter": "python",
   "pygments_lexer": "ipython3",
   "version": "3.5.3"
  }
 },
 "nbformat": 4,
 "nbformat_minor": 2
}
